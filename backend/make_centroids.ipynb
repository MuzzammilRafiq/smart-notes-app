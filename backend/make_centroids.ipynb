{
 "cells": [
  {
   "cell_type": "code",
   "execution_count": 111,
   "metadata": {},
   "outputs": [],
   "source": [
    "#so far applying stopwords give more radicle results where as without stopwords gives more subtle results\n",
    "#however, stopword gave 2 incorrect results while without stopwords gave 1 incorrect result"
   ]
  },
  {
   "cell_type": "code",
   "execution_count": 62,
   "metadata": {},
   "outputs": [],
   "source": [
    "import warnings\n",
    "warnings.filterwarnings(\"ignore\")"
   ]
  },
  {
   "cell_type": "code",
   "execution_count": 99,
   "metadata": {},
   "outputs": [
    {
     "name": "stderr",
     "output_type": "stream",
     "text": [
      "[nltk_data] Downloading package stopwords to\n",
      "[nltk_data]     C:\\Users\\Owner\\AppData\\Roaming\\nltk_data...\n",
      "[nltk_data]   Package stopwords is already up-to-date!\n"
     ]
    },
    {
     "data": {
      "text/plain": [
       "True"
      ]
     },
     "execution_count": 99,
     "metadata": {},
     "output_type": "execute_result"
    }
   ],
   "source": [
    "from sentence_transformers import SentenceTransformer, util\n",
    "import json\n",
    "import numpy as np\n",
    "\n",
    "import nltk\n",
    "from nltk.corpus import stopwords\n",
    " \n",
    "nltk.download('stopwords')"
   ]
  },
  {
   "cell_type": "code",
   "execution_count": 100,
   "metadata": {},
   "outputs": [],
   "source": [
    "with open(\"./data/sample-data.json\", \"r\") as f:\n",
    "    data = json.load(f)"
   ]
  },
  {
   "cell_type": "code",
   "execution_count": 101,
   "metadata": {},
   "outputs": [
    {
     "data": {
      "text/plain": [
       "dict_keys(['coding', 'entertainment', 'finance', 'notes', 'quotes'])"
      ]
     },
     "execution_count": 101,
     "metadata": {},
     "output_type": "execute_result"
    }
   ],
   "source": [
    "data.keys()"
   ]
  },
  {
   "cell_type": "code",
   "execution_count": 102,
   "metadata": {},
   "outputs": [
    {
     "name": "stdout",
     "output_type": "stream",
     "text": [
      "{'coding': ['current sorting algorithm (Merge Sort) works well larger datasets, Quick Sort might perform better smaller datasets due lower overhead. Test confirm.', 'Binary Search Tree operations (insert, search, delete) O(log n) average, degrade O(n) tree becomes unbalanced. Consider using AVL Red-Black trees.', \"'two-sum' problem, handle cases array contains duplicate numbers (e.g., [2, 2, 3] target 4).\", \"Use BFS shortest path unweighted graph Dijkstra's Algorithm weighted graphs. Avoid DFS may guarantee shortest path.\", 'Extract repetitive API calls reusable function. reduce redundancy improve maintainability.', 'Switched axios fetch front-end reduces bundle size. Keep eye edge cases fetch lacks features (e.g., timeout).', 'Upgraded React v16 v18. Ensure third-party components support new React version.', 'Bug: NullPointerException calculateTotal(). Cause: order.items null. Fix: Add null check looping items.', 'Dropdown menu close blur Safari. Works Chrome/Firefox. Solution: Add explicit event listener blur Safari.', 'Unit test failing due async function resolving. Added await promise ensured mock function returns resolved promise.', 'Binary Search Tree operations (insert, search, delete) O(log n) average, degrade O(n) tree becomes unbalanced. Consider using AVL Red-Black trees. # BST Insert Function class Node: def __init__(self, value): self.value = value self.left = None self.right = None def insert(root, value): root None: return Node(value) value < root.value: root.left = insert(root.left, value) else: root.right = insert(root.right, value) return root', \"test('fetchData returns correct data', async () => { const mockResponse = { data: 'sample' }; fetch.mockResolvedValueOnce({ ok: true, json: async () => mockResponse, }); const data = await fetchData('/api/data'); expect(data).toEqual(mockResponse);});\"], 'entertainment': ['Elden Ring, prioritize upgrading weapon +3 taking Margit Fell Omen. Farm runes Limgrave easier progression.', 'Witcher 3: Wild Hunt multiple endings based choices throughout game. Save key decisions explore different outcomes.', \"Cyberpunk 2077, invest 'Body' attribute increase health stamina. help survive longer combat situations.\", \"Inception, spinning top end symbolizes ambiguity. key clue Cobb ignoring top, implying he's accepted reality, dream not.\", \"Mandalorian Season 2 finale features surprise appearance Luke Skywalker. scene created using CGI Mark Hamill's de-aged face.\", \"Matrix, red pill symbolizes truth reality, blue pill represents ignorance illusion. Neo's choice determines fate.\", 'football, 4-3-3 formation works best team strong midfield pacey wingers. Use setup counter-attacking play.', \"Lionel Messi's World Cup-winning performance 2022 exemplifies leadership. adaptability playmaker finisher key.\", 'Marvel Cinematic Universe (MCU) Phase 4 introduces new characters like Shang-Chi Eternals. Stay updated latest releases.', 'Keep list movie s/web series watch different genres. Prioritize strong IMDb/Rotten Tomatoes ratings reviews friends.'], 'finance': ['Diversify investment portfolio reduce risk. Allocate assets across different classes like stocks, bonds, real estate.', 'Review credit report annually check errors fraudulent activity. Dispute inaccuracies maintain healthy credit score.', 'Automate savings setting recurring transfers high-yield savings account. help build emergency fund time.', 'Consider refinancing mortgage interest rates dropped since purchased home. lower monthly payments save money.', 'Track expenses using budgeting apps like Mint YNAB. Categorize spending identify areas cut back.', 'Invest retirement account like 401(k) IRA take advantage tax benefits compound interest time.', 'Pay high-interest debt first reduce amount interest pay time. Consider using debt snowball avalanche method.', 'Set financial goals create plan achieve them. Break goals smaller, manageable steps track progress.', 'Build diversified investment portfolio aligns risk tolerance financial goals. Rebalance portfolio periodically maintain desired asset allocation.', 'Consider working financial advisor create comprehensive financial plan. provide personalized advice help stay track.'], 'notes': ['Grocery List Need buy: Milk Bread Eggs Chicken breast Spinach Laundry detergent', 'To-Do List Home Maintenance Weekend chores: Mow lawn Clean garage Fix leaky faucet bathroom Water indoor plants Take recycling', 'Meeting Notes - 10/15/2022 Agenda: Project updates Upcoming deadlines Action items: Complete feature EOD Schedule meeting stakeholders Prepare presentation next week Next meeting: 10/22/2022 10:00', 'Travel Itinerary - Europe Trip Destinations: Paris, France Rome, Italy Barcelona, Spain Activities: Eiffel Tower tour Colosseum visit Sagrada Familia tour Flight details: Departure: 11/05/2022 8:00 Return: 11/20/2022 6:00 PM', \"Book List Read: 'Atomic Habits' James Clear 'Sapiens' Yuval Noah Harari '1984' George Orwell 'Brave New World' Aldous Huxley\", 'Workout Plan Monday: Chest Triceps Tuesday: Back Biceps Wednesday: Legs Abs Thursday: Shoulders Cardio Friday: Full Body', 'Recipe - Chocolate Chip Cookies Ingredients: 1 cup butter 1 cup sugar 2 cups flour 1 tsp baking soda 1 cup chocolate chips Instructions: 1. Preheat oven 350Â°F 2. Mix butter sugar 3. Add flour baking soda 4. Stir chocolate chips 5. Bake 10-12 minutes', 'Project Ideas 1. Build personal website 2. Create mobile app task management 3. Develop game using Unity 4. Start blog tech trends 5. Design smart home automation system'], 'quotes': ['Wisdom Personal Growth true wisdom knowing know nothing. â€” Socrates', 'Resilience Determination Success final, failure fatal: courage continue counts.â€” Winston Churchill', 'Self-Reflection yourself; everyone else already taken. â€” Oscar Wilde', 'Hope Perseverance Hope able see light despite darkness. â€” Desmond Tutu', 'Personal Potential future belongs believe beauty dreams. â€” Eleanor Roosevelt', 'act kindness, matter small, ever wasted. â€” Aesop', 'special talent. passionately curious. â€” Albert Einstein', 'Courage absence fear, triumph it. â€” Nelson Mandela', 'Life happens busy making plans.', 'yourself, much anybody entire universe, deserve love affection.']}\n"
     ]
    }
   ],
   "source": [
    "new_data=data.copy()\n",
    "stop_words = set(stopwords.words('english'))\n",
    "\n",
    "for key, texts in new_data.items():\n",
    "    filtered_texts = []\n",
    "    for text in texts:\n",
    "        words = text.split()\n",
    "        filtered_words = [word for word in words if word.lower() not in stop_words]\n",
    "        filtered_texts.append(' '.join(filtered_words))\n",
    "    new_data[key] = filtered_texts\n",
    "\n",
    "print(new_data)"
   ]
  },
  {
   "cell_type": "code",
   "execution_count": 103,
   "metadata": {},
   "outputs": [
    {
     "name": "stdout",
     "output_type": "stream",
     "text": [
      "coding 12\n",
      "entertainment 10\n",
      "finance 10\n",
      "notes 8\n",
      "quotes 10\n"
     ]
    }
   ],
   "source": [
    "import random\n",
    "\n",
    "for k,v in new_data.items():\n",
    "    print(k, len(v))\n"
   ]
  },
  {
   "cell_type": "code",
   "execution_count": 104,
   "metadata": {},
   "outputs": [
    {
     "name": "stdout",
     "output_type": "stream",
     "text": [
      "-----------train------------\n",
      "coding 10\n",
      "entertainment 8\n",
      "finance 8\n",
      "notes 6\n",
      "quotes 8\n",
      "-----------test------------\n",
      "coding 2\n",
      "entertainment 2\n",
      "finance 2\n",
      "notes 2\n",
      "quotes 2\n"
     ]
    }
   ],
   "source": [
    "train_data = {}\n",
    "test_data = {}\n",
    "\n",
    "for k, v in new_data.items():\n",
    "    test_data[k] = random.sample(v, 2)\n",
    "    train_data[k] = [item for item in v if item not in test_data[k]]\n",
    "\n",
    "print(\"-----------train------------\")\n",
    "for k,v in train_data.items():\n",
    "    print(k, len(v))\n",
    "print(\"-----------test------------\")\n",
    "for k,v in test_data.items():\n",
    "    print(k, len(v))"
   ]
  },
  {
   "cell_type": "code",
   "execution_count": 105,
   "metadata": {},
   "outputs": [],
   "source": [
    "model= SentenceTransformer(\"all-mpnet-base-v2\")\n"
   ]
  },
  {
   "cell_type": "code",
   "execution_count": null,
   "metadata": {},
   "outputs": [
    {
     "name": "stdout",
     "output_type": "stream",
     "text": [
      "2515\n"
     ]
    }
   ],
   "source": [
    "# import time\n",
    "# t = time.time()\n",
    "# x=[]\n",
    "# for i in range(100):\n",
    "#     embeddings = model.encode([\"sentences\"])\n",
    "#     x.append(embeddings[0])\n",
    "# print(round((time.time()-t)*1000))"
   ]
  },
  {
   "cell_type": "code",
   "execution_count": 107,
   "metadata": {},
   "outputs": [],
   "source": [
    "class TextEmbeddingCentroidAnalyzer:\n",
    "    def __init__(self, model_name='all-mpnet-base-v2'):\n",
    "        self.model = SentenceTransformer(model_name)\n",
    "    \n",
    "    def generate_embeddings(self, texts):\n",
    "        return self.model.encode(texts, convert_to_numpy=True)\n",
    "    \n",
    "    def calculate_class_centroids(self, texts, labels):\n",
    "        embeddings = self.generate_embeddings(texts)\n",
    "        centroids = {}\n",
    "        for unique_class in np.unique(labels):\n",
    "            class_mask = np.array(labels) == unique_class\n",
    "            class_embeddings = embeddings[class_mask]\n",
    "            centroid = np.mean(class_embeddings, axis=0)\n",
    "            centroid = centroid / np.linalg.norm(centroid)\n",
    "            centroids[unique_class] = centroid\n",
    "        \n",
    "        return centroids\n",
    "    \n",
    "    def find_nearest_centroid(self, text, centroids):\n",
    "        text_embedding = self.generate_embeddings([text])[0]\n",
    "        similarities = {}\n",
    "        for class_name, centroid in centroids.items():\n",
    "            similarity = np.dot(text_embedding, centroid)\n",
    "            similarities[class_name] = similarity\n",
    "        return similarities,\n",
    "        # return max(similarities, key=similarities.get)\n"
   ]
  },
  {
   "cell_type": "code",
   "execution_count": 108,
   "metadata": {},
   "outputs": [],
   "source": [
    "texts = []\n",
    "labels = []\n",
    "for k, v in train_data.items():\n",
    "    for item in v:\n",
    "        texts.append(item)\n",
    "        labels.append(k)"
   ]
  },
  {
   "cell_type": "code",
   "execution_count": 109,
   "metadata": {},
   "outputs": [
    {
     "name": "stdout",
     "output_type": "stream",
     "text": [
      "Centroid for coding: [ 0.01044333  0.05445974 -0.0276557  -0.00445685  0.01611437]...\n",
      "Centroid for entertainment: [ 0.04053596  0.0366516  -0.01215939 -0.00458674  0.02963256]...\n",
      "Centroid for finance: [-0.00610016  0.05527804 -0.0378691  -0.02249573  0.0577959 ]...\n",
      "Centroid for notes: [ 0.01989413  0.07713379 -0.05561051 -0.00539542 -0.0045892 ]...\n",
      "Centroid for quotes: [ 0.09016934  0.11804867 -0.00800988 -0.01948396  0.06845009]...\n"
     ]
    }
   ],
   "source": [
    "analyzer = TextEmbeddingCentroidAnalyzer()\n",
    "\n",
    "centroids = analyzer.calculate_class_centroids(texts, labels)\n",
    "\n",
    "for class_name, centroid in centroids.items():\n",
    "    print(f\"Centroid for {class_name}: {centroid[:5]}...\")"
   ]
  },
  {
   "cell_type": "code",
   "execution_count": null,
   "metadata": {},
   "outputs": [
    {
     "name": "stdout",
     "output_type": "stream",
     "text": [
      "coding 18.73\n",
      "entertainment 22.5\n",
      "finance 16.94\n",
      "notes 20.27\n",
      "quotes 21.55\n"
     ]
    }
   ],
   "source": [
    "# test_text = \"movie\"\n",
    "# predicted_class = analyzer.find_nearest_centroid(test_text, centroids)\n",
    "# v = np.array([k for k in predicted_class[0].values()])\n",
    "# softmax_v = np.exp(v) / np.sum(np.exp(v))\n",
    "\n",
    "# for i,cat in enumerate(predicted_class[0]):\n",
    "#     print(cat, round(softmax_v[i].item()*100,2))"
   ]
  },
  {
   "cell_type": "code",
   "execution_count": null,
   "metadata": {},
   "outputs": [
    {
     "name": "stdout",
     "output_type": "stream",
     "text": [
      "coding | Binary Search Tree operations (insert, s |->coding 32.54 entertainment -5.45 finance 4.01 notes -2.47 quotes -4.74 \n",
      "coding | Switched from axios to fetch in the fron |->coding 26.15 entertainment 2.38 finance 4.63 notes 2.75 quotes 1.42 \n",
      "entertainment | In Elden Ring, prioritize upgrading your |->coding 4.64 entertainment 15.12 finance 21.97 notes 8.34 quotes 10.12 \n",
      "entertainment | Keep a list of movie s/web series to wat |->coding 10.29 entertainment 19.92 finance 26.99 notes 29.6 quotes 20.91 \n",
      "finance | Review your credit report annually to ch |->coding 10.82 entertainment 4.53 finance 41.28 notes 13.05 quotes 6.36 \n",
      "finance | Diversify your investment portfolio to r |->coding 15.43 entertainment 11.36 finance 73.29 notes 24.61 quotes 19.04 \n",
      "notes | Travel Itinerary - Europe Trip\n",
      "Destinati |->coding 5.01 entertainment 9.62 finance 2.99 notes 22.68 quotes 4.79 \n",
      "notes | Workout Plan\n",
      "Monday:\n",
      "Chest and Triceps\n",
      "T |->coding 7.35 entertainment 9.4 finance 16.81 notes 33.2 quotes 2.8 \n",
      "quotes | You yourself, as much as anybody in the  |->coding -9.07 entertainment 0.2 finance 1.86 notes 5.83 quotes 17.41 \n",
      "quotes | Personal Potential The future belongs to |->coding 3.78 entertainment 25.0 finance 21.34 notes 20.67 quotes 72.63 \n"
     ]
    }
   ],
   "source": [
    "for k, v in test_data.items():\n",
    "    for text in v:\n",
    "        predicted_class = analyzer.find_nearest_centroid(text, centroids)\n",
    "        v = np.array([k for k in predicted_class[0].values()])\n",
    "        # softmax_v = np.exp(v) / np.sum(np.exp(v))\n",
    "        # print(k,end=\"->\")\n",
    "        # for i,cat in enumerate(predicted_class[0]):\n",
    "        #     print(cat, round(softmax_v[i].item()*100,2),end=\" \")\n",
    "        # print(\"\\n___\\n\")\n",
    "        print(k,end=\"->\")\n",
    "        for i,cat in enumerate(predicted_class[0]):\n",
    "            print(cat, round(v[i].item()*100,2),end=\" \")\n",
    "        print()\n",
    "       "
   ]
  },
  {
   "cell_type": "code",
   "execution_count": 110,
   "metadata": {},
   "outputs": [
    {
     "name": "stdout",
     "output_type": "stream",
     "text": [
      "coding->coding 20.27 entertainment -1.7 finance 11.87 notes 9.72 quotes 4.28 \n",
      "coding->coding 21.41 entertainment 5.27 finance 19.85 notes 9.73 quotes 8.85 \n",
      "entertainment->coding 4.1 entertainment 33.09 finance 13.58 notes 10.88 quotes 13.57 \n",
      "entertainment->coding 7.28 entertainment 18.37 finance 23.07 notes 11.64 quotes 11.61 \n",
      "finance->coding 12.41 entertainment 13.52 finance 40.65 notes 15.2 quotes 6.54 \n",
      "finance->coding 11.42 entertainment 23.34 finance 59.19 notes 17.67 quotes 16.72 \n",
      "notes->coding 5.55 entertainment 26.89 finance 18.44 notes 34.35 quotes 10.71 \n",
      "notes->coding -5.17 entertainment -7.4 finance 3.1 notes 6.05 quotes -7.56 \n",
      "quotes->coding -3.08 entertainment 26.48 finance 1.21 notes 7.67 quotes 49.86 \n",
      "quotes->coding 9.69 entertainment 18.57 finance 19.96 notes 17.23 quotes 66.37 \n"
     ]
    }
   ],
   "source": [
    "for k, v in test_data.items():\n",
    "    for text in v:\n",
    "        predicted_class = analyzer.find_nearest_centroid(text, centroids)\n",
    "        v = np.array([k for k in predicted_class[0].values()])\n",
    "        # softmax_v = np.exp(v) / np.sum(np.exp(v))\n",
    "        # print(k,end=\"->\")\n",
    "        # for i,cat in enumerate(predicted_class[0]):\n",
    "        #     print(cat, round(softmax_v[i].item()*100,2),end=\" \")\n",
    "        # print(\"\\n___\\n\")\n",
    "        print(k,end=\"->\")\n",
    "        for i,cat in enumerate(predicted_class[0]):\n",
    "            print(cat, round(v[i].item()*100,2),end=\" \")\n",
    "        print()\n",
    "       "
   ]
  },
  {
   "cell_type": "markdown",
   "metadata": {},
   "source": [
    "coding->coding 20.27 entertainment -1.7 finance 11.87 notes 9.72 quotes 4.28 \n",
    "coding->coding 21.41 entertainment 5.27 finance 19.85 notes 9.73 quotes 8.85 \n",
    "entertainment->coding 4.1 entertainment 33.09 finance 13.58 notes 10.88 quotes 13.57 \n",
    "entertainment->coding 7.28 entertainment 18.37 finance 23.07 notes 11.64 quotes 11.61 \n",
    "finance->coding 12.41 entertainment 13.52 finance 40.65 notes 15.2 quotes 6.54 \n",
    "finance->coding 11.42 entertainment 23.34 finance 59.19 notes 17.67 quotes 16.72 \n",
    "notes->coding 5.55 entertainment 26.89 finance 18.44 notes 34.35 quotes 10.71 \n",
    "notes->coding -5.17 entertainment -7.4 finance 3.1 notes 6.05 quotes -7.56 \n",
    "quotes->coding -3.08 entertainment 26.48 finance 1.21 notes 7.67 quotes 49.86 \n",
    "quotes->coding 9.69 entertainment 18.57 finance 19.96 notes 17.23 quotes 66.37\n",
    "\n",
    "coding ->coding 32.54 entertainment -5.45 finance 4.01 notes -2.47 quotes -4.74 \n",
    "coding ->coding 26.15 entertainment 2.38 finance 4.63 notes 2.75 quotes 1.42 \n",
    "entertainment ->coding 4.64 entertainment 15.12 finance 21.97 notes 8.34 quotes 10.12 \n",
    "entertainment ->coding 10.29 entertainment 19.92 finance 26.99 notes 29.6 quotes 20.91 \n",
    "finance ->coding 10.82 entertainment 4.53 finance 41.28 notes 13.05 quotes 6.36 \n",
    "finance ->coding 15.43 entertainment 11.36 finance 73.29 notes 24.61 quotes 19.04 \n",
    "notes ->coding 5.01 entertainment 9.62 finance 2.99 notes 22.68 quotes 4.79 \n",
    "notes ->coding 7.35 entertainment 9.4 finance 16.81 notes 33.2 quotes 2.8 \n",
    "quotes ->coding -9.07 entertainment 0.2 finance 1.86 notes 5.83 quotes 17.41 \n",
    "quotes ->coding 3.78 entertainment 25.0 finance 21.34 notes 20.67 quotes 72.63 "
   ]
  }
 ],
 "metadata": {
  "kernelspec": {
   "display_name": ".venv",
   "language": "python",
   "name": "python3"
  },
  "language_info": {
   "codemirror_mode": {
    "name": "ipython",
    "version": 3
   },
   "file_extension": ".py",
   "mimetype": "text/x-python",
   "name": "python",
   "nbconvert_exporter": "python",
   "pygments_lexer": "ipython3",
   "version": "3.12.7"
  }
 },
 "nbformat": 4,
 "nbformat_minor": 2
}
